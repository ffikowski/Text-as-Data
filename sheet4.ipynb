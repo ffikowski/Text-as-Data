{
 "cells": [
  {
   "cell_type": "code",
   "execution_count": 1,
   "id": "00ead096",
   "metadata": {},
   "outputs": [],
   "source": [
    "import csv\n",
    "import pandas as pd\n",
    "import numpy as np\n",
    "import nltk\n",
    "from nltk.stem import *\n",
    "from nltk.corpus import stopwords\n",
    "from sklearn.feature_extraction.text import TfidfVectorizer\n",
    "from sklearn.cluster import KMeans\n"
   ]
  },
  {
   "cell_type": "markdown",
   "id": "6a28cbd9",
   "metadata": {},
   "source": [
    "## Task 1:"
   ]
  },
  {
   "cell_type": "code",
   "execution_count": 2,
   "id": "aea5e329",
   "metadata": {},
   "outputs": [],
   "source": [
    "news_categorizer = pd.read_csv('NewsCategorizer.csv')"
   ]
  },
  {
   "cell_type": "code",
   "execution_count": 3,
   "id": "80e10e19",
   "metadata": {},
   "outputs": [
    {
     "name": "stdout",
     "output_type": "stream",
     "text": [
      "   category                                           headline  \\\n",
      "0  WELLNESS              143 Miles in 35 Days: Lessons Learned   \n",
      "1  WELLNESS       Talking to Yourself: Crazy or Crazy Helpful?   \n",
      "2  WELLNESS  Crenezumab: Trial Will Gauge Whether Alzheimer...   \n",
      "3  WELLNESS                     Oh, What a Difference She Made   \n",
      "4  WELLNESS                                   Green Superfoods   \n",
      "\n",
      "                                               links  \\\n",
      "0  https://www.huffingtonpost.com/entry/running-l...   \n",
      "1  https://www.huffingtonpost.com/entry/talking-t...   \n",
      "2  https://www.huffingtonpost.com/entry/crenezuma...   \n",
      "3  https://www.huffingtonpost.com/entry/meaningfu...   \n",
      "4  https://www.huffingtonpost.com/entry/green-sup...   \n",
      "\n",
      "                                   short_description  \\\n",
      "0  Resting is part of training. I've confirmed wh...   \n",
      "1  Think of talking to yourself as a tool to coac...   \n",
      "2  The clock is ticking for the United States to ...   \n",
      "3  If you want to be busy, keep trying to be perf...   \n",
      "4  First, the bad news: Soda bread, corned beef a...   \n",
      "\n",
      "                             keywords  \n",
      "0                     running-lessons  \n",
      "1           talking-to-yourself-crazy  \n",
      "2  crenezumab-alzheimers-disease-drug  \n",
      "3                     meaningful-life  \n",
      "4                    green-superfoods  \n"
     ]
    }
   ],
   "source": [
    "print(news_categorizer.head())"
   ]
  },
  {
   "cell_type": "code",
   "execution_count": 4,
   "id": "0dcf7c77",
   "metadata": {},
   "outputs": [],
   "source": [
    "data = news_categorizer[['category','short_description']].copy()"
   ]
  },
  {
   "cell_type": "markdown",
   "id": "04b82b4e",
   "metadata": {},
   "source": [
    "## Task 3:"
   ]
  },
  {
   "cell_type": "code",
   "execution_count": 5,
   "id": "96b7a3e8",
   "metadata": {},
   "outputs": [],
   "source": [
    "short_description = data['short_description'].to_list()\n",
    "short_description_preprocessed = []\n",
    "\n",
    "for k in np.arange(len(short_description)):\n",
    "    text= \"\"\n",
    "    for i in np.arange(len(short_description[k])):\n",
    "        if short_description[k][i].isalpha() or short_description[k][i].isspace():\n",
    "            text += short_description[k][i].lower()\n",
    "    text_split = text.split()\n",
    "    short_description_preprocessed.append(text_split)\n"
   ]
  },
  {
   "cell_type": "code",
   "execution_count": 6,
   "id": "abb6d49a",
   "metadata": {},
   "outputs": [],
   "source": [
    "lemmatizer = WordNetLemmatizer()"
   ]
  },
  {
   "cell_type": "code",
   "execution_count": 7,
   "id": "3589413a",
   "metadata": {},
   "outputs": [],
   "source": [
    "lammatized_descriptions = []\n",
    "\n",
    "for i in short_description_preprocessed:\n",
    "    lammatized_description = []\n",
    "    for k in i:\n",
    "        lemmatized_token = lemmatizer.lemmatize(k)\n",
    "        lammatized_description.append(lemmatized_token)\n",
    "    lammatized_descriptions.append(lammatized_description)"
   ]
  },
  {
   "cell_type": "code",
   "execution_count": 8,
   "id": "95888303",
   "metadata": {},
   "outputs": [],
   "source": [
    "stop_words = list(set(stopwords.words('english')))"
   ]
  },
  {
   "cell_type": "code",
   "execution_count": 9,
   "id": "86aa694f",
   "metadata": {},
   "outputs": [],
   "source": [
    "preprocessed_stop_words = []\n",
    "\n",
    "for k in np.arange(len(stop_words)):\n",
    "    text= \"\"\n",
    "    for i in np.arange(len(stop_words[k])):\n",
    "        if stop_words[k][i].isalpha() or stop_words[k][i].isspace():\n",
    "            text += stop_words[k][i].lower()\n",
    "            lemmatized_text = lemmatizer.lemmatize(text)\n",
    "    preprocessed_stop_words.append(lemmatized_text)"
   ]
  },
  {
   "cell_type": "code",
   "execution_count": 10,
   "id": "8f9caf66",
   "metadata": {},
   "outputs": [],
   "source": [
    "filtered_descriptions = []\n",
    "\n",
    "for i in np.arange(len(lammatized_descriptions)):\n",
    "    filtered_description = []\n",
    "    for k in lammatized_descriptions[i]:\n",
    "        if k not in preprocessed_stop_words:\n",
    "            filtered_description.append(k)\n",
    "    filtered_descriptions.append(filtered_description)"
   ]
  },
  {
   "cell_type": "code",
   "execution_count": 11,
   "id": "86037312",
   "metadata": {},
   "outputs": [],
   "source": [
    "proprocessed_descriptions=[]\n",
    "\n",
    "for i in filtered_descriptions:\n",
    "    joined = ' '.join(i)\n",
    "    proprocessed_descriptions.append(joined)"
   ]
  },
  {
   "cell_type": "code",
   "execution_count": 12,
   "id": "3ea6410e",
   "metadata": {},
   "outputs": [
    {
     "name": "stdout",
     "output_type": "stream",
     "text": [
      "50000 ['resting part training ive confirmed sort already knew im built running streak im built hard workout three five day week lot cross training physical therapy foam rolling ive also confirmed im stubborn', 'think talking tool coach challenge narrate experience case treat respect may find enjoy company', 'clock ticking united state find cure team working study dr francisco lopera', 'want busy keep trying perfect want happy focus making difference', 'first bad news soda bread corned beef beer highly nutritious meal make luck irish would', 'carey moss youbeautycom love romcoms love song breakup song lesson teach u might', 'nation general scored scale little bit score', 'also worth remembering water seaweed come contaminated say toxic metal arsenic', 'look culture eating behavior certainly look like addiction situation opportunity eat weve started eating seem know stop even want even know hurting', 'françoismarie arouet th century french author iconoclast better known voltaire quipped art medicine']\n"
     ]
    }
   ],
   "source": [
    "print(len(proprocessed_descriptions),proprocessed_descriptions[:10])"
   ]
  },
  {
   "cell_type": "markdown",
   "id": "3aebc32e",
   "metadata": {},
   "source": [
    "## Task 3:"
   ]
  },
  {
   "cell_type": "code",
   "execution_count": 13,
   "id": "8a3e5680",
   "metadata": {},
   "outputs": [],
   "source": [
    "vectorizer = TfidfVectorizer()"
   ]
  },
  {
   "cell_type": "code",
   "execution_count": 14,
   "id": "16b75e1a",
   "metadata": {},
   "outputs": [],
   "source": [
    "X = vectorizer.fit_transform(proprocessed_descriptions)"
   ]
  },
  {
   "cell_type": "markdown",
   "id": "fd74679f",
   "metadata": {},
   "source": [
    "## Task 4:"
   ]
  },
  {
   "cell_type": "code",
   "execution_count": 15,
   "id": "9cef7e01",
   "metadata": {},
   "outputs": [],
   "source": [
    "kmeans = KMeans(n_clusters=10, random_state=0).fit(X)"
   ]
  },
  {
   "cell_type": "code",
   "execution_count": 16,
   "id": "98590b3f",
   "metadata": {},
   "outputs": [],
   "source": [
    "kmeans_labels = kmeans.labels_"
   ]
  },
  {
   "cell_type": "code",
   "execution_count": 17,
   "id": "80a1a933",
   "metadata": {},
   "outputs": [],
   "source": [
    "data['clustered_labels'] = kmeans_labels"
   ]
  },
  {
   "cell_type": "code",
   "execution_count": 18,
   "id": "d4cb8885",
   "metadata": {},
   "outputs": [
    {
     "name": "stdout",
     "output_type": "stream",
     "text": [
      "   category                                  short_description  \\\n",
      "0  WELLNESS  Resting is part of training. I've confirmed wh...   \n",
      "1  WELLNESS  Think of talking to yourself as a tool to coac...   \n",
      "2  WELLNESS  The clock is ticking for the United States to ...   \n",
      "3  WELLNESS  If you want to be busy, keep trying to be perf...   \n",
      "4  WELLNESS  First, the bad news: Soda bread, corned beef a...   \n",
      "\n",
      "   clustered_labels  \n",
      "0                 7  \n",
      "1                 0  \n",
      "2                 0  \n",
      "3                 0  \n",
      "4                 2  \n"
     ]
    }
   ],
   "source": [
    "print(data.head())"
   ]
  },
  {
   "cell_type": "code",
   "execution_count": 43,
   "id": "41a8ccf9",
   "metadata": {},
   "outputs": [],
   "source": [
    "results = data.groupby(['category','clustered_labels']).count()"
   ]
  },
  {
   "cell_type": "code",
   "execution_count": 47,
   "id": "ba22f25d",
   "metadata": {},
   "outputs": [
    {
     "name": "stdout",
     "output_type": "stream",
     "text": [
      "                                 short_description\n",
      "category       clustered_labels                   \n",
      "POLITICS       5                                85\n",
      "               6                               159\n",
      "               7                               117\n",
      "               9                               371\n",
      "SPORTS         0                               467\n",
      "               1                               146\n",
      "               2                               323\n",
      "               3                              3575\n",
      "               4                                93\n",
      "               5                                43\n",
      "               6                               186\n",
      "               7                                74\n",
      "               9                                93\n",
      "STYLE & BEAUTY 0                               342\n",
      "               1                               344\n",
      "               2                               302\n",
      "               3                              3165\n",
      "               4                                64\n",
      "               5                                69\n",
      "               6                               231\n",
      "               7                               173\n",
      "               8                               297\n",
      "               9                                13\n",
      "TRAVEL         0                               316\n",
      "               1                               319\n",
      "               2                               303\n",
      "               3                              3173\n",
      "               4                                98\n",
      "               5                               102\n",
      "               6                               379\n",
      "               7                               244\n",
      "               9                                66\n",
      "WELLNESS       0                               285\n",
      "               1                               255\n",
      "               2                               273\n",
      "               3                              3100\n",
      "               4                               163\n",
      "               5                               222\n",
      "               6                               373\n",
      "               7                               271\n",
      "               9                                58\n",
      "WORLD NEWS     0                               467\n",
      "               1                               162\n",
      "               2                               522\n",
      "               3                              3124\n",
      "               4                               106\n",
      "               5                                61\n",
      "               6                               161\n",
      "               7                               173\n",
      "               9                               224\n"
     ]
    }
   ],
   "source": [
    "print(results.tail(50))"
   ]
  },
  {
   "cell_type": "markdown",
   "id": "2cdb44bb",
   "metadata": {},
   "source": [
    "The formed clusters match the category not very good. If we group the clusters by category, it shows that for each category cluster 3 contains the most observations. In the ideal case we would observe that for each category one cluster contains the most observations."
   ]
  },
  {
   "cell_type": "code",
   "execution_count": null,
   "id": "5886c3f0",
   "metadata": {},
   "outputs": [],
   "source": []
  }
 ],
 "metadata": {
  "kernelspec": {
   "display_name": "Python 3 (ipykernel)",
   "language": "python",
   "name": "python3"
  },
  "language_info": {
   "codemirror_mode": {
    "name": "ipython",
    "version": 3
   },
   "file_extension": ".py",
   "mimetype": "text/x-python",
   "name": "python",
   "nbconvert_exporter": "python",
   "pygments_lexer": "ipython3",
   "version": "3.9.7"
  }
 },
 "nbformat": 4,
 "nbformat_minor": 5
}
